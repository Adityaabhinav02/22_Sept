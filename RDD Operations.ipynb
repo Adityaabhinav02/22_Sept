{
 "cells": [
  {
   "cell_type": "code",
   "execution_count": 1,
   "id": "223edc8a",
   "metadata": {},
   "outputs": [],
   "source": [
    "#Spark context is the main entry point it consist all basic funcatanility of spark and driver contain dax scheadulae and backend and block manager\n",
    "#which are responsible for translating user written code into jobs that are actually executed on cluster."
   ]
  },
  {
   "cell_type": "code",
   "execution_count": 2,
   "id": "364aeb41",
   "metadata": {},
   "outputs": [],
   "source": [
    "from pyspark import SparkContext\n",
    "\n",
    "#if getting error pip istall pyspark\n",
    "\n",
    "import findspark\n",
    "findspark.init()"
   ]
  },
  {
   "cell_type": "code",
   "execution_count": 3,
   "id": "485da286",
   "metadata": {},
   "outputs": [
    {
     "name": "stderr",
     "output_type": "stream",
     "text": [
      "Setting default log level to \"WARN\".\n",
      "To adjust logging level use sc.setLogLevel(newLevel). For SparkR, use setLogLevel(newLevel).\n",
      "23/09/22 06:01:25 WARN NativeCodeLoader: Unable to load native-hadoop library for your platform... using builtin-java classes where applicable\n",
      "23/09/22 06:01:26 WARN Utils: Service 'SparkUI' could not bind on port 4040. Attempting port 4041.\n"
     ]
    }
   ],
   "source": [
    "sc = SparkContext(\"local\",\"SparkPractice\")"
   ]
  },
  {
   "cell_type": "code",
   "execution_count": 4,
   "id": "1cf274e3",
   "metadata": {},
   "outputs": [],
   "source": [
    "data = [1,2,3,4,5]\n",
    "rdd = sc.parallelize(data)"
   ]
  },
  {
   "cell_type": "code",
   "execution_count": 5,
   "id": "8255cb9c",
   "metadata": {},
   "outputs": [
    {
     "name": "stderr",
     "output_type": "stream",
     "text": [
      "\r",
      "[Stage 0:>                                                          (0 + 1) / 1]\r"
     ]
    },
    {
     "name": "stdout",
     "output_type": "stream",
     "text": [
      "[1, 2, 3, 4, 5]\n"
     ]
    },
    {
     "name": "stderr",
     "output_type": "stream",
     "text": [
      "\r",
      "                                                                                \r"
     ]
    }
   ],
   "source": [
    "result = rdd.collect()  # Collect is a method which perform an action\n",
    "print(result)"
   ]
  },
  {
   "cell_type": "code",
   "execution_count": 6,
   "id": "f7961f7b",
   "metadata": {},
   "outputs": [],
   "source": [
    "def f(x): print(x)"
   ]
  },
  {
   "cell_type": "code",
   "execution_count": 7,
   "id": "ff967d9e",
   "metadata": {},
   "outputs": [],
   "source": [
    "names = sc.parallelize(['adam','aditya','abhinav','Mark','Christ','ravi','rahul','anup'])"
   ]
  },
  {
   "cell_type": "code",
   "execution_count": 8,
   "id": "15507968",
   "metadata": {},
   "outputs": [
    {
     "data": {
      "text/plain": [
       "['adam', 'aditya', 'abhinav', 'Mark', 'Christ', 'ravi', 'rahul', 'anup']"
      ]
     },
     "execution_count": 8,
     "metadata": {},
     "output_type": "execute_result"
    }
   ],
   "source": [
    "names.collect()"
   ]
  },
  {
   "cell_type": "code",
   "execution_count": 9,
   "id": "7ad76ed3",
   "metadata": {},
   "outputs": [],
   "source": [
    "num = sc.parallelize([5,5,4,3,2,9,2],3)"
   ]
  },
  {
   "cell_type": "code",
   "execution_count": 10,
   "id": "fc948585",
   "metadata": {},
   "outputs": [
    {
     "data": {
      "text/plain": [
       "3"
      ]
     },
     "execution_count": 10,
     "metadata": {},
     "output_type": "execute_result"
    }
   ],
   "source": [
    "num.getNumPartitions()"
   ]
  },
  {
   "cell_type": "code",
   "execution_count": 11,
   "id": "0bba2be7",
   "metadata": {},
   "outputs": [
    {
     "data": {
      "text/plain": [
       "[5, 5, 4, 3, 2, 9, 2]"
      ]
     },
     "execution_count": 11,
     "metadata": {},
     "output_type": "execute_result"
    }
   ],
   "source": [
    "num.collect()"
   ]
  },
  {
   "cell_type": "code",
   "execution_count": 12,
   "id": "7ad8a004",
   "metadata": {},
   "outputs": [
    {
     "data": {
      "text/plain": [
       "[('spark.master', 'local'),\n",
       " ('spark.app.id', 'local-1695362486714'),\n",
       " ('spark.driver.host', 'ip-172-31-6-100.ap-south-1.compute.internal'),\n",
       " ('spark.executor.id', 'driver'),\n",
       " ('spark.driver.extraJavaOptions',\n",
       "  '-Djava.net.preferIPv6Addresses=false -XX:+IgnoreUnrecognizedVMOptions --add-opens=java.base/java.lang=ALL-UNNAMED --add-opens=java.base/java.lang.invoke=ALL-UNNAMED --add-opens=java.base/java.lang.reflect=ALL-UNNAMED --add-opens=java.base/java.io=ALL-UNNAMED --add-opens=java.base/java.net=ALL-UNNAMED --add-opens=java.base/java.nio=ALL-UNNAMED --add-opens=java.base/java.util=ALL-UNNAMED --add-opens=java.base/java.util.concurrent=ALL-UNNAMED --add-opens=java.base/java.util.concurrent.atomic=ALL-UNNAMED --add-opens=java.base/sun.nio.ch=ALL-UNNAMED --add-opens=java.base/sun.nio.cs=ALL-UNNAMED --add-opens=java.base/sun.security.action=ALL-UNNAMED --add-opens=java.base/sun.util.calendar=ALL-UNNAMED --add-opens=java.security.jgss/sun.security.krb5=ALL-UNNAMED -Djdk.reflect.useDirectMethodHandle=false'),\n",
       " ('spark.app.startTime', '1695362484997'),\n",
       " ('spark.rdd.compress', 'True'),\n",
       " ('spark.serializer.objectStreamReset', '100'),\n",
       " ('spark.submit.pyFiles', ''),\n",
       " ('spark.submit.deployMode', 'client'),\n",
       " ('spark.app.submitTime', '1695362484738'),\n",
       " ('spark.app.name', 'SparkPractice'),\n",
       " ('spark.ui.showConsoleProgress', 'true'),\n",
       " ('spark.driver.port', '43389'),\n",
       " ('spark.executor.extraJavaOptions',\n",
       "  '-Djava.net.preferIPv6Addresses=false -XX:+IgnoreUnrecognizedVMOptions --add-opens=java.base/java.lang=ALL-UNNAMED --add-opens=java.base/java.lang.invoke=ALL-UNNAMED --add-opens=java.base/java.lang.reflect=ALL-UNNAMED --add-opens=java.base/java.io=ALL-UNNAMED --add-opens=java.base/java.net=ALL-UNNAMED --add-opens=java.base/java.nio=ALL-UNNAMED --add-opens=java.base/java.util=ALL-UNNAMED --add-opens=java.base/java.util.concurrent=ALL-UNNAMED --add-opens=java.base/java.util.concurrent.atomic=ALL-UNNAMED --add-opens=java.base/sun.nio.ch=ALL-UNNAMED --add-opens=java.base/sun.nio.cs=ALL-UNNAMED --add-opens=java.base/sun.security.action=ALL-UNNAMED --add-opens=java.base/sun.util.calendar=ALL-UNNAMED --add-opens=java.security.jgss/sun.security.krb5=ALL-UNNAMED -Djdk.reflect.useDirectMethodHandle=false')]"
      ]
     },
     "execution_count": 12,
     "metadata": {},
     "output_type": "execute_result"
    }
   ],
   "source": [
    "sc.getConf().getAll()"
   ]
  },
  {
   "cell_type": "code",
   "execution_count": null,
   "id": "c90b698e",
   "metadata": {},
   "outputs": [],
   "source": []
  },
  {
   "cell_type": "code",
   "execution_count": 13,
   "id": "41c6bd31",
   "metadata": {},
   "outputs": [
    {
     "name": "stderr",
     "output_type": "stream",
     "text": [
      "                                                                                \r"
     ]
    },
    {
     "data": {
      "text/plain": [
       "defaultdict(int, {5: 2, 4: 1, 3: 1, 2: 2, 9: 1})"
      ]
     },
     "execution_count": 13,
     "metadata": {},
     "output_type": "execute_result"
    }
   ],
   "source": [
    "num.countByValue()"
   ]
  },
  {
   "cell_type": "code",
   "execution_count": 16,
   "id": "672601c7",
   "metadata": {},
   "outputs": [],
   "source": []
  },
  {
   "cell_type": "code",
   "execution_count": 22,
   "id": "ce76474b",
   "metadata": {},
   "outputs": [],
   "source": [
    "from pyspark.sql import  SparkSession"
   ]
  },
  {
   "cell_type": "code",
   "execution_count": 23,
   "id": "2b5205aa",
   "metadata": {},
   "outputs": [],
   "source": [
    "from pyspark.sql.types import StructType, StructField,IntegerType,StringType"
   ]
  },
  {
   "cell_type": "code",
   "execution_count": 24,
   "id": "b11c92af",
   "metadata": {},
   "outputs": [],
   "source": [
    "data = [(\"Alice\",25),(\"Bob\",30),(\"Charlie\",35),(\"David\",28),(\"Eve\",22)]"
   ]
  },
  {
   "cell_type": "code",
   "execution_count": 25,
   "id": "bedafa7b",
   "metadata": {},
   "outputs": [],
   "source": [
    "schema=StructType(\n",
    "[\n",
    "    StructField(\"name\",StringType(), True),\n",
    "    StructField(\"age\", IntegerType(), True)\n",
    "])"
   ]
  },
  {
   "cell_type": "code",
   "execution_count": 26,
   "id": "d34b943a",
   "metadata": {},
   "outputs": [],
   "source": [
    "spark=SparkSession.builder.appName(\"A\").getOrCreate()"
   ]
  },
  {
   "cell_type": "code",
   "execution_count": 27,
   "id": "54826a8e",
   "metadata": {},
   "outputs": [],
   "source": [
    "rdd=spark.sparkContext.parallelize(data)"
   ]
  },
  {
   "cell_type": "code",
   "execution_count": 28,
   "id": "6f4c5985",
   "metadata": {},
   "outputs": [
    {
     "data": {
      "text/plain": [
       "[('Alice', 25), ('Bob', 30), ('Charlie', 35), ('David', 28), ('Eve', 22)]"
      ]
     },
     "execution_count": 28,
     "metadata": {},
     "output_type": "execute_result"
    }
   ],
   "source": [
    "rdd.collect()"
   ]
  },
  {
   "cell_type": "code",
   "execution_count": 40,
   "id": "f19a84e5",
   "metadata": {},
   "outputs": [],
   "source": [
    "df= spark.createDataFrame(rdd,schema=schema)"
   ]
  },
  {
   "cell_type": "code",
   "execution_count": 41,
   "id": "a712c558",
   "metadata": {},
   "outputs": [],
   "source": [
    "result_df=df.filter(df.age>=30)"
   ]
  },
  {
   "cell_type": "code",
   "execution_count": 43,
   "id": "24d2deb4",
   "metadata": {},
   "outputs": [
    {
     "name": "stdout",
     "output_type": "stream",
     "text": [
      "+-------+---+\n",
      "|   name|age|\n",
      "+-------+---+\n",
      "|    Bob| 30|\n",
      "|Charlie| 35|\n",
      "+-------+---+\n",
      "\n"
     ]
    }
   ],
   "source": [
    "result_df.show()"
   ]
  },
  {
   "cell_type": "code",
   "execution_count": 45,
   "id": "45ee0700",
   "metadata": {},
   "outputs": [],
   "source": [
    "df.createOrReplaceTempView(\"mytable\")"
   ]
  },
  {
   "cell_type": "code",
   "execution_count": 50,
   "id": "d3b1d330",
   "metadata": {},
   "outputs": [],
   "source": [
    "result = spark.sql(\"select * from mytable where age >=30\")"
   ]
  },
  {
   "cell_type": "code",
   "execution_count": 52,
   "id": "a278ef0f",
   "metadata": {},
   "outputs": [
    {
     "name": "stdout",
     "output_type": "stream",
     "text": [
      "+-------+---+\n",
      "|   name|age|\n",
      "+-------+---+\n",
      "|    Bob| 30|\n",
      "|Charlie| 35|\n",
      "+-------+---+\n",
      "\n"
     ]
    }
   ],
   "source": [
    "result.show()"
   ]
  },
  {
   "cell_type": "code",
   "execution_count": 53,
   "id": "63b2a2f9",
   "metadata": {},
   "outputs": [],
   "source": [
    "df=spark.read.csv(\"movies.csv\",header=True,inferSchema=True)"
   ]
  },
  {
   "cell_type": "code",
   "execution_count": 55,
   "id": "33cd53b2",
   "metadata": {},
   "outputs": [
    {
     "name": "stdout",
     "output_type": "stream",
     "text": [
      "+--------------------+---------+--------------------+----------------+-------------+-----------------+---------------+----+\n",
      "|                Film|    Genre|         Lead Studio|Audience score %|Profitability|Rotten Tomatoes %|Worldwide Gross|Year|\n",
      "+--------------------+---------+--------------------+----------------+-------------+-----------------+---------------+----+\n",
      "|Zack and Miri Mak...|  Romance|The Weinstein Com...|              70|  1.747541667|               64|        $41.94 |2008|\n",
      "|     Youth in Revolt|   Comedy|The Weinstein Com...|              52|         1.09|               68|        $19.62 |2010|\n",
      "|You Will Meet a T...|   Comedy|         Independent|              35|  1.211818182|               43|        $26.66 |2010|\n",
      "|        When in Rome|   Comedy|              Disney|              44|          0.0|               15|        $43.04 |2010|\n",
      "|What Happens in V...|   Comedy|                 Fox|              72|  6.267647029|               28|       $219.37 |2008|\n",
      "| Water For Elephants|    Drama|    20th Century Fox|              72|  3.081421053|               60|       $117.09 |2011|\n",
      "|              WALL-E|Animation|              Disney|              89|  2.896019067|               96|       $521.28 |2008|\n",
      "|            Waitress|  Romance|         Independent|              67|   11.0897415|               89|        $22.18 |2007|\n",
      "| Waiting For Forever|  Romance|         Independent|              53|        0.005|                6|         $0.03 |2011|\n",
      "|     Valentine's Day|   Comedy|        Warner Bros.|              54|  4.184038462|               17|       $217.57 |2010|\n",
      "|Tyler Perry's Why...|  Romance|         Independent|              47|    3.7241924|               46|        $55.86 |2007|\n",
      "|Twilight: Breakin...|  Romance|         Independent|              68|  6.383363636|               26|       $702.17 |2011|\n",
      "|            Twilight|  Romance|              Summit|              82|  10.18002703|               49|       $376.66 |2008|\n",
      "|      The Ugly Truth|   Comedy|         Independent|              68|  5.402631579|               14|       $205.30 |2009|\n",
      "|The Twilight Saga...|    Drama|              Summit|              78|      14.1964|               27|       $709.82 |2009|\n",
      "|The Time Traveler...|    Drama|           Paramount|              65|  2.598205128|               38|       $101.33 |2009|\n",
      "|        The Proposal|   Comedy|              Disney|              74|       7.8675|               43|       $314.70 |2009|\n",
      "|The Invention of ...|   Comedy|        Warner Bros.|              47|  1.751351351|               56|        $32.40 |2009|\n",
      "|  The Heartbreak Kid|   Comedy|           Paramount|              41|  2.129444167|               30|       $127.77 |2007|\n",
      "|         The Duchess|    Drama|           Paramount|              68|  3.207850222|               60|        $43.31 |2008|\n",
      "+--------------------+---------+--------------------+----------------+-------------+-----------------+---------------+----+\n",
      "only showing top 20 rows\n",
      "\n"
     ]
    }
   ],
   "source": [
    "df.show()"
   ]
  },
  {
   "cell_type": "code",
   "execution_count": 58,
   "id": "f2ecdd39",
   "metadata": {},
   "outputs": [
    {
     "name": "stdout",
     "output_type": "stream",
     "text": [
      "+--------------------+---------+--------------------+----------------+-------------+-----------------+---------------+----+\n",
      "|                Film|    Genre|         Lead Studio|Audience score %|Profitability|Rotten Tomatoes %|Worldwide Gross|Year|\n",
      "+--------------------+---------+--------------------+----------------+-------------+-----------------+---------------+----+\n",
      "|Zack and Miri Mak...|  Romance|The Weinstein Com...|              70|  1.747541667|               64|        $41.94 |2008|\n",
      "|     Youth in Revolt|   Comedy|The Weinstein Com...|              52|         1.09|               68|        $19.62 |2010|\n",
      "|You Will Meet a T...|   Comedy|         Independent|              35|  1.211818182|               43|        $26.66 |2010|\n",
      "|        When in Rome|   Comedy|              Disney|              44|          0.0|               15|        $43.04 |2010|\n",
      "|What Happens in V...|   Comedy|                 Fox|              72|  6.267647029|               28|       $219.37 |2008|\n",
      "| Water For Elephants|    Drama|    20th Century Fox|              72|  3.081421053|               60|       $117.09 |2011|\n",
      "|              WALL-E|Animation|              Disney|              89|  2.896019067|               96|       $521.28 |2008|\n",
      "|            Waitress|  Romance|         Independent|              67|   11.0897415|               89|        $22.18 |2007|\n",
      "| Waiting For Forever|  Romance|         Independent|              53|        0.005|                6|         $0.03 |2011|\n",
      "|     Valentine's Day|   Comedy|        Warner Bros.|              54|  4.184038462|               17|       $217.57 |2010|\n",
      "|Tyler Perry's Why...|  Romance|         Independent|              47|    3.7241924|               46|        $55.86 |2007|\n",
      "|Twilight: Breakin...|  Romance|         Independent|              68|  6.383363636|               26|       $702.17 |2011|\n",
      "|            Twilight|  Romance|              Summit|              82|  10.18002703|               49|       $376.66 |2008|\n",
      "|      The Ugly Truth|   Comedy|         Independent|              68|  5.402631579|               14|       $205.30 |2009|\n",
      "|The Twilight Saga...|    Drama|              Summit|              78|      14.1964|               27|       $709.82 |2009|\n",
      "|The Time Traveler...|    Drama|           Paramount|              65|  2.598205128|               38|       $101.33 |2009|\n",
      "|        The Proposal|   Comedy|              Disney|              74|       7.8675|               43|       $314.70 |2009|\n",
      "|The Invention of ...|   Comedy|        Warner Bros.|              47|  1.751351351|               56|        $32.40 |2009|\n",
      "|  The Heartbreak Kid|   Comedy|           Paramount|              41|  2.129444167|               30|       $127.77 |2007|\n",
      "|         The Duchess|    Drama|           Paramount|              68|  3.207850222|               60|        $43.31 |2008|\n",
      "+--------------------+---------+--------------------+----------------+-------------+-----------------+---------------+----+\n",
      "only showing top 20 rows\n",
      "\n"
     ]
    }
   ],
   "source": [
    "df.show()"
   ]
  },
  {
   "cell_type": "code",
   "execution_count": 60,
   "id": "98bae1e2",
   "metadata": {},
   "outputs": [],
   "source": [
    "df.createOrReplaceTempView(\"New_table\")"
   ]
  },
  {
   "cell_type": "code",
   "execution_count": 85,
   "id": "a78517fe",
   "metadata": {},
   "outputs": [],
   "source": [
    "result = spark.sql(\"select * from New_table where `Audience score %` >=70 \")"
   ]
  },
  {
   "cell_type": "code",
   "execution_count": 86,
   "id": "86389dfe",
   "metadata": {},
   "outputs": [
    {
     "name": "stdout",
     "output_type": "stream",
     "text": [
      "StructType([StructField('Film', StringType(), True), StructField('Genre', StringType(), True), StructField('Lead Studio', StringType(), True), StructField('Audience score %', IntegerType(), True), StructField('Profitability', DoubleType(), True), StructField('Rotten Tomatoes %', IntegerType(), True), StructField('Worldwide Gross', StringType(), True), StructField('Year', IntegerType(), True)])\n"
     ]
    }
   ],
   "source": [
    "print(result.schema)"
   ]
  },
  {
   "cell_type": "code",
   "execution_count": 87,
   "id": "eb97da46",
   "metadata": {},
   "outputs": [
    {
     "name": "stdout",
     "output_type": "stream",
     "text": [
      "+--------------------+---------+--------------------+----------------+-------------+-----------------+---------------+----+\n",
      "|                Film|    Genre|         Lead Studio|Audience score %|Profitability|Rotten Tomatoes %|Worldwide Gross|Year|\n",
      "+--------------------+---------+--------------------+----------------+-------------+-----------------+---------------+----+\n",
      "|Zack and Miri Mak...|  Romance|The Weinstein Com...|              70|  1.747541667|               64|        $41.94 |2008|\n",
      "|What Happens in V...|   Comedy|                 Fox|              72|  6.267647029|               28|       $219.37 |2008|\n",
      "| Water For Elephants|    Drama|    20th Century Fox|              72|  3.081421053|               60|       $117.09 |2011|\n",
      "|              WALL-E|Animation|              Disney|              89|  2.896019067|               96|       $521.28 |2008|\n",
      "|            Twilight|  Romance|              Summit|              82|  10.18002703|               49|       $376.66 |2008|\n",
      "|The Twilight Saga...|    Drama|              Summit|              78|      14.1964|               27|       $709.82 |2009|\n",
      "|        The Proposal|   Comedy|              Disney|              74|       7.8675|               43|       $314.70 |2009|\n",
      "|The Curious Case ...|  Fantasy|        Warner Bros.|              81|   1.78394375|               73|       $285.43 |2008|\n",
      "|             Tangled|Animation|              Disney|              88|  1.365692308|               89|       $355.01 |2010|\n",
      "|    Sex and the City|   Comedy|        Warner Bros.|              81|  7.221795791|               49|       $415.25 |2008|\n",
      "+--------------------+---------+--------------------+----------------+-------------+-----------------+---------------+----+\n",
      "only showing top 10 rows\n",
      "\n"
     ]
    }
   ],
   "source": [
    "result.show(10)"
   ]
  },
  {
   "cell_type": "code",
   "execution_count": null,
   "id": "d5769b97",
   "metadata": {},
   "outputs": [],
   "source": []
  }
 ],
 "metadata": {
  "kernelspec": {
   "display_name": "Python 3 (ipykernel)",
   "language": "python",
   "name": "python3"
  },
  "language_info": {
   "codemirror_mode": {
    "name": "ipython",
    "version": 3
   },
   "file_extension": ".py",
   "mimetype": "text/x-python",
   "name": "python",
   "nbconvert_exporter": "python",
   "pygments_lexer": "ipython3",
   "version": "3.11.4"
  }
 },
 "nbformat": 4,
 "nbformat_minor": 5
}
